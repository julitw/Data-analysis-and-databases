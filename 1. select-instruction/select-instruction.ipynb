{
 "cells": [
  {
   "cell_type": "markdown",
   "id": "cd4fc08c",
   "metadata": {},
   "source": [
    "Julita Wójcik, nr indeksu: 406282, gr.lab. 3\n",
    "\n",
    "Zajęcia - piątek godz. 9.30\n",
    "\n",
    "Laboratorium 2"
   ]
  },
  {
   "cell_type": "code",
   "execution_count": 1,
   "id": "9db5b83b",
   "metadata": {},
   "outputs": [],
   "source": [
    "#import bazy\n",
    "\n",
    "import psycopg2 as pg\n",
    "import pandas as pd\n",
    "\n",
    "connection = pg.connect(host='pgsql-196447.vipserv.org', port=5432, dbname='wbauer_adb', user='wbauer_adb', password='adb2020')"
   ]
  },
  {
   "cell_type": "markdown",
   "id": "0800603a",
   "metadata": {},
   "source": [
    "## ZADANIA"
   ]
  },
  {
   "cell_type": "markdown",
   "id": "3a465924",
   "metadata": {},
   "source": [
    "#### 1. Ile kategorii filmów mamy w wypożyczalni?"
   ]
  },
  {
   "cell_type": "code",
   "execution_count": 2,
   "id": "105f1795",
   "metadata": {},
   "outputs": [
    {
     "name": "stderr",
     "output_type": "stream",
     "text": [
      "C:\\Users\\DELL\\anaconda3\\lib\\site-packages\\pandas\\io\\sql.py:761: UserWarning: pandas only support SQLAlchemy connectable(engine/connection) ordatabase string URI or sqlite3 DBAPI2 connectionother DBAPI2 objects are not tested, please consider using SQLAlchemy\n",
      "  warnings.warn(\n"
     ]
    },
    {
     "data": {
      "text/html": [
       "<div>\n",
       "<style scoped>\n",
       "    .dataframe tbody tr th:only-of-type {\n",
       "        vertical-align: middle;\n",
       "    }\n",
       "\n",
       "    .dataframe tbody tr th {\n",
       "        vertical-align: top;\n",
       "    }\n",
       "\n",
       "    .dataframe thead th {\n",
       "        text-align: right;\n",
       "    }\n",
       "</style>\n",
       "<table border=\"1\" class=\"dataframe\">\n",
       "  <thead>\n",
       "    <tr style=\"text-align: right;\">\n",
       "      <th></th>\n",
       "      <th>_id</th>\n",
       "    </tr>\n",
       "  </thead>\n",
       "  <tbody>\n",
       "    <tr>\n",
       "      <th>0</th>\n",
       "      <td>16</td>\n",
       "    </tr>\n",
       "  </tbody>\n",
       "</table>\n",
       "</div>"
      ],
      "text/plain": [
       "   _id\n",
       "0   16"
      ]
     },
     "execution_count": 2,
     "metadata": {},
     "output_type": "execute_result"
    }
   ],
   "source": [
    "# count() - zlicza elementy w kolumnie\n",
    "df = pd.read_sql('select count(category)_id FROM category', con=connection)\n",
    "df"
   ]
  },
  {
   "cell_type": "markdown",
   "id": "5e1f546b",
   "metadata": {},
   "source": [
    "#### 2. Wyświetl listę kategorii w kolejności alfabetycznej."
   ]
  },
  {
   "cell_type": "code",
   "execution_count": 3,
   "id": "fc8be1ed",
   "metadata": {},
   "outputs": [
    {
     "name": "stderr",
     "output_type": "stream",
     "text": [
      "C:\\Users\\DELL\\anaconda3\\lib\\site-packages\\pandas\\io\\sql.py:761: UserWarning: pandas only support SQLAlchemy connectable(engine/connection) ordatabase string URI or sqlite3 DBAPI2 connectionother DBAPI2 objects are not tested, please consider using SQLAlchemy\n",
      "  warnings.warn(\n"
     ]
    },
    {
     "data": {
      "text/html": [
       "<div>\n",
       "<style scoped>\n",
       "    .dataframe tbody tr th:only-of-type {\n",
       "        vertical-align: middle;\n",
       "    }\n",
       "\n",
       "    .dataframe tbody tr th {\n",
       "        vertical-align: top;\n",
       "    }\n",
       "\n",
       "    .dataframe thead th {\n",
       "        text-align: right;\n",
       "    }\n",
       "</style>\n",
       "<table border=\"1\" class=\"dataframe\">\n",
       "  <thead>\n",
       "    <tr style=\"text-align: right;\">\n",
       "      <th></th>\n",
       "      <th>name</th>\n",
       "    </tr>\n",
       "  </thead>\n",
       "  <tbody>\n",
       "    <tr>\n",
       "      <th>0</th>\n",
       "      <td>Action</td>\n",
       "    </tr>\n",
       "    <tr>\n",
       "      <th>1</th>\n",
       "      <td>Animation</td>\n",
       "    </tr>\n",
       "    <tr>\n",
       "      <th>2</th>\n",
       "      <td>Children</td>\n",
       "    </tr>\n",
       "    <tr>\n",
       "      <th>3</th>\n",
       "      <td>Classics</td>\n",
       "    </tr>\n",
       "    <tr>\n",
       "      <th>4</th>\n",
       "      <td>Comedy</td>\n",
       "    </tr>\n",
       "    <tr>\n",
       "      <th>5</th>\n",
       "      <td>Documentary</td>\n",
       "    </tr>\n",
       "    <tr>\n",
       "      <th>6</th>\n",
       "      <td>Drama</td>\n",
       "    </tr>\n",
       "    <tr>\n",
       "      <th>7</th>\n",
       "      <td>Family</td>\n",
       "    </tr>\n",
       "    <tr>\n",
       "      <th>8</th>\n",
       "      <td>Foreign</td>\n",
       "    </tr>\n",
       "    <tr>\n",
       "      <th>9</th>\n",
       "      <td>Games</td>\n",
       "    </tr>\n",
       "    <tr>\n",
       "      <th>10</th>\n",
       "      <td>Horror</td>\n",
       "    </tr>\n",
       "    <tr>\n",
       "      <th>11</th>\n",
       "      <td>Music</td>\n",
       "    </tr>\n",
       "    <tr>\n",
       "      <th>12</th>\n",
       "      <td>New</td>\n",
       "    </tr>\n",
       "    <tr>\n",
       "      <th>13</th>\n",
       "      <td>Sci-Fi</td>\n",
       "    </tr>\n",
       "    <tr>\n",
       "      <th>14</th>\n",
       "      <td>Sports</td>\n",
       "    </tr>\n",
       "    <tr>\n",
       "      <th>15</th>\n",
       "      <td>Travel</td>\n",
       "    </tr>\n",
       "  </tbody>\n",
       "</table>\n",
       "</div>"
      ],
      "text/plain": [
       "           name\n",
       "0        Action\n",
       "1     Animation\n",
       "2      Children\n",
       "3      Classics\n",
       "4        Comedy\n",
       "5   Documentary\n",
       "6         Drama\n",
       "7        Family\n",
       "8       Foreign\n",
       "9         Games\n",
       "10       Horror\n",
       "11        Music\n",
       "12          New\n",
       "13       Sci-Fi\n",
       "14       Sports\n",
       "15       Travel"
      ]
     },
     "execution_count": 3,
     "metadata": {},
     "output_type": "execute_result"
    }
   ],
   "source": [
    "# order by - sortowanie \n",
    "df = pd.read_sql('select name from category ORDER BY name', con=connection)\n",
    "df"
   ]
  },
  {
   "cell_type": "markdown",
   "id": "39f65a88",
   "metadata": {},
   "source": [
    "#### 3. Znajdź najstarszy i najmłodszy film do wypożyczenia."
   ]
  },
  {
   "cell_type": "code",
   "execution_count": 4,
   "id": "b6d27f7b",
   "metadata": {},
   "outputs": [
    {
     "name": "stderr",
     "output_type": "stream",
     "text": [
      "C:\\Users\\DELL\\anaconda3\\lib\\site-packages\\pandas\\io\\sql.py:761: UserWarning: pandas only support SQLAlchemy connectable(engine/connection) ordatabase string URI or sqlite3 DBAPI2 connectionother DBAPI2 objects are not tested, please consider using SQLAlchemy\n",
      "  warnings.warn(\n"
     ]
    },
    {
     "name": "stdout",
     "output_type": "stream",
     "text": [
      "   release_year\n",
      "0          2006\n",
      "   release_year\n",
      "0          2006\n"
     ]
    },
    {
     "name": "stderr",
     "output_type": "stream",
     "text": [
      "C:\\Users\\DELL\\anaconda3\\lib\\site-packages\\pandas\\io\\sql.py:761: UserWarning: pandas only support SQLAlchemy connectable(engine/connection) ordatabase string URI or sqlite3 DBAPI2 connectionother DBAPI2 objects are not tested, please consider using SQLAlchemy\n",
      "  warnings.warn(\n"
     ]
    }
   ],
   "source": [
    "# limit x - ograniczenie do x wyświetlanych wierszy\n",
    "# desc - sortowanie odwrotne\n",
    "\n",
    "df1 = pd.read_sql('select release_year from film ORDER BY release_year LIMIT 1', con=connection)\n",
    "print(df1)\n",
    "df2 = pd.read_sql('select release_year from film ORDER BY release_year desc LIMIT 1', con=connection)\n",
    "print(df2)"
   ]
  },
  {
   "cell_type": "markdown",
   "id": "253e4157",
   "metadata": {},
   "source": [
    "#### 4. Ile wypożyczeń odbyło się między 2005-07-01 a 2005-08-01?"
   ]
  },
  {
   "cell_type": "code",
   "execution_count": 5,
   "id": "8fe39522",
   "metadata": {},
   "outputs": [
    {
     "name": "stderr",
     "output_type": "stream",
     "text": [
      "C:\\Users\\DELL\\anaconda3\\lib\\site-packages\\pandas\\io\\sql.py:761: UserWarning: pandas only support SQLAlchemy connectable(engine/connection) ordatabase string URI or sqlite3 DBAPI2 connectionother DBAPI2 objects are not tested, please consider using SQLAlchemy\n",
      "  warnings.warn(\n"
     ]
    },
    {
     "data": {
      "text/html": [
       "<div>\n",
       "<style scoped>\n",
       "    .dataframe tbody tr th:only-of-type {\n",
       "        vertical-align: middle;\n",
       "    }\n",
       "\n",
       "    .dataframe tbody tr th {\n",
       "        vertical-align: top;\n",
       "    }\n",
       "\n",
       "    .dataframe thead th {\n",
       "        text-align: right;\n",
       "    }\n",
       "</style>\n",
       "<table border=\"1\" class=\"dataframe\">\n",
       "  <thead>\n",
       "    <tr style=\"text-align: right;\">\n",
       "      <th></th>\n",
       "      <th>count</th>\n",
       "    </tr>\n",
       "  </thead>\n",
       "  <tbody>\n",
       "    <tr>\n",
       "      <th>0</th>\n",
       "      <td>7380</td>\n",
       "    </tr>\n",
       "  </tbody>\n",
       "</table>\n",
       "</div>"
      ],
      "text/plain": [
       "   count\n",
       "0   7380"
      ]
     },
     "execution_count": 5,
     "metadata": {},
     "output_type": "execute_result"
    }
   ],
   "source": [
    "# between x and y - wyszukiwanie elementów w zadanym przedziale\n",
    "# w poniższym przykładzie należało uzupełnić daty godzinami, aby uzyskać informacje\n",
    "\n",
    "df = pd.read_sql(\"select count(rental_date) from rental WHERE rental_date BETWEEN '2005-07-01 00:00:00' AND '2005-08-01 23:59:59'\",con=connection)\n",
    "df"
   ]
  },
  {
   "cell_type": "markdown",
   "id": "55f14563",
   "metadata": {},
   "source": [
    "#### 5.Ile wypożyczeń odbyło się między 2010-01-01 a 2011-02-01?"
   ]
  },
  {
   "cell_type": "code",
   "execution_count": 6,
   "id": "b41257f8",
   "metadata": {},
   "outputs": [
    {
     "name": "stderr",
     "output_type": "stream",
     "text": [
      "C:\\Users\\DELL\\anaconda3\\lib\\site-packages\\pandas\\io\\sql.py:761: UserWarning: pandas only support SQLAlchemy connectable(engine/connection) ordatabase string URI or sqlite3 DBAPI2 connectionother DBAPI2 objects are not tested, please consider using SQLAlchemy\n",
      "  warnings.warn(\n"
     ]
    },
    {
     "data": {
      "text/html": [
       "<div>\n",
       "<style scoped>\n",
       "    .dataframe tbody tr th:only-of-type {\n",
       "        vertical-align: middle;\n",
       "    }\n",
       "\n",
       "    .dataframe tbody tr th {\n",
       "        vertical-align: top;\n",
       "    }\n",
       "\n",
       "    .dataframe thead th {\n",
       "        text-align: right;\n",
       "    }\n",
       "</style>\n",
       "<table border=\"1\" class=\"dataframe\">\n",
       "  <thead>\n",
       "    <tr style=\"text-align: right;\">\n",
       "      <th></th>\n",
       "      <th>count</th>\n",
       "    </tr>\n",
       "  </thead>\n",
       "  <tbody>\n",
       "    <tr>\n",
       "      <th>0</th>\n",
       "      <td>0</td>\n",
       "    </tr>\n",
       "  </tbody>\n",
       "</table>\n",
       "</div>"
      ],
      "text/plain": [
       "   count\n",
       "0      0"
      ]
     },
     "execution_count": 6,
     "metadata": {},
     "output_type": "execute_result"
    }
   ],
   "source": [
    "df = pd.read_sql(\"select count(rental_date) from rental WHERE rental_date BETWEEN '2010-01-01 00:00:00'::timestamp AND '2011-02-01 00:00:00'::timestamp\",con=connection)\n",
    "df"
   ]
  },
  {
   "cell_type": "markdown",
   "id": "4f13f319",
   "metadata": {},
   "source": [
    "#### 6.Znajdź największą płatność wypożyczenia."
   ]
  },
  {
   "cell_type": "code",
   "execution_count": 7,
   "id": "a550dee5",
   "metadata": {},
   "outputs": [
    {
     "name": "stderr",
     "output_type": "stream",
     "text": [
      "C:\\Users\\DELL\\anaconda3\\lib\\site-packages\\pandas\\io\\sql.py:761: UserWarning: pandas only support SQLAlchemy connectable(engine/connection) ordatabase string URI or sqlite3 DBAPI2 connectionother DBAPI2 objects are not tested, please consider using SQLAlchemy\n",
      "  warnings.warn(\n"
     ]
    },
    {
     "data": {
      "text/html": [
       "<div>\n",
       "<style scoped>\n",
       "    .dataframe tbody tr th:only-of-type {\n",
       "        vertical-align: middle;\n",
       "    }\n",
       "\n",
       "    .dataframe tbody tr th {\n",
       "        vertical-align: top;\n",
       "    }\n",
       "\n",
       "    .dataframe thead th {\n",
       "        text-align: right;\n",
       "    }\n",
       "</style>\n",
       "<table border=\"1\" class=\"dataframe\">\n",
       "  <thead>\n",
       "    <tr style=\"text-align: right;\">\n",
       "      <th></th>\n",
       "      <th>max</th>\n",
       "    </tr>\n",
       "  </thead>\n",
       "  <tbody>\n",
       "    <tr>\n",
       "      <th>0</th>\n",
       "      <td>11.99</td>\n",
       "    </tr>\n",
       "  </tbody>\n",
       "</table>\n",
       "</div>"
      ],
      "text/plain": [
       "     max\n",
       "0  11.99"
      ]
     },
     "execution_count": 7,
     "metadata": {},
     "output_type": "execute_result"
    }
   ],
   "source": [
    "# max() - wyświetla maksymalną wartość w zadanej kolumnie\n",
    "\n",
    "df = pd.read_sql('select max(amount) FROM payment', con=connection)\n",
    "df"
   ]
  },
  {
   "cell_type": "markdown",
   "id": "a76bb4e2",
   "metadata": {},
   "source": [
    "#### 7. Znajdź wszystkich klientów z Polski, Nigerii lub Bangladeszu."
   ]
  },
  {
   "cell_type": "code",
   "execution_count": 8,
   "id": "7ceda4c0",
   "metadata": {},
   "outputs": [
    {
     "name": "stderr",
     "output_type": "stream",
     "text": [
      "C:\\Users\\DELL\\anaconda3\\lib\\site-packages\\pandas\\io\\sql.py:761: UserWarning: pandas only support SQLAlchemy connectable(engine/connection) ordatabase string URI or sqlite3 DBAPI2 connectionother DBAPI2 objects are not tested, please consider using SQLAlchemy\n",
      "  warnings.warn(\n"
     ]
    },
    {
     "data": {
      "text/html": [
       "<div>\n",
       "<style scoped>\n",
       "    .dataframe tbody tr th:only-of-type {\n",
       "        vertical-align: middle;\n",
       "    }\n",
       "\n",
       "    .dataframe tbody tr th {\n",
       "        vertical-align: top;\n",
       "    }\n",
       "\n",
       "    .dataframe thead th {\n",
       "        text-align: right;\n",
       "    }\n",
       "</style>\n",
       "<table border=\"1\" class=\"dataframe\">\n",
       "  <thead>\n",
       "    <tr style=\"text-align: right;\">\n",
       "      <th></th>\n",
       "      <th>first_name</th>\n",
       "      <th>last_name</th>\n",
       "      <th>country</th>\n",
       "    </tr>\n",
       "  </thead>\n",
       "  <tbody>\n",
       "    <tr>\n",
       "      <th>0</th>\n",
       "      <td>Sonia</td>\n",
       "      <td>Gregory</td>\n",
       "      <td>Nigeria</td>\n",
       "    </tr>\n",
       "    <tr>\n",
       "      <th>1</th>\n",
       "      <td>Brian</td>\n",
       "      <td>Wyman</td>\n",
       "      <td>Poland</td>\n",
       "    </tr>\n",
       "    <tr>\n",
       "      <th>2</th>\n",
       "      <td>Sidney</td>\n",
       "      <td>Burleson</td>\n",
       "      <td>Poland</td>\n",
       "    </tr>\n",
       "    <tr>\n",
       "      <th>3</th>\n",
       "      <td>Rodney</td>\n",
       "      <td>Moeller</td>\n",
       "      <td>Nigeria</td>\n",
       "    </tr>\n",
       "    <tr>\n",
       "      <th>4</th>\n",
       "      <td>Stephen</td>\n",
       "      <td>Qualls</td>\n",
       "      <td>Bangladesh</td>\n",
       "    </tr>\n",
       "    <tr>\n",
       "      <th>5</th>\n",
       "      <td>Velma</td>\n",
       "      <td>Lucas</td>\n",
       "      <td>Nigeria</td>\n",
       "    </tr>\n",
       "    <tr>\n",
       "      <th>6</th>\n",
       "      <td>Marilyn</td>\n",
       "      <td>Ross</td>\n",
       "      <td>Nigeria</td>\n",
       "    </tr>\n",
       "    <tr>\n",
       "      <th>7</th>\n",
       "      <td>Elsie</td>\n",
       "      <td>Kelley</td>\n",
       "      <td>Nigeria</td>\n",
       "    </tr>\n",
       "    <tr>\n",
       "      <th>8</th>\n",
       "      <td>Gladys</td>\n",
       "      <td>Hamilton</td>\n",
       "      <td>Nigeria</td>\n",
       "    </tr>\n",
       "    <tr>\n",
       "      <th>9</th>\n",
       "      <td>Frank</td>\n",
       "      <td>Waggoner</td>\n",
       "      <td>Bangladesh</td>\n",
       "    </tr>\n",
       "    <tr>\n",
       "      <th>10</th>\n",
       "      <td>Marjorie</td>\n",
       "      <td>Tucker</td>\n",
       "      <td>Poland</td>\n",
       "    </tr>\n",
       "    <tr>\n",
       "      <th>11</th>\n",
       "      <td>Carol</td>\n",
       "      <td>Garcia</td>\n",
       "      <td>Nigeria</td>\n",
       "    </tr>\n",
       "    <tr>\n",
       "      <th>12</th>\n",
       "      <td>Leah</td>\n",
       "      <td>Curtis</td>\n",
       "      <td>Poland</td>\n",
       "    </tr>\n",
       "    <tr>\n",
       "      <th>13</th>\n",
       "      <td>Ruben</td>\n",
       "      <td>Geary</td>\n",
       "      <td>Poland</td>\n",
       "    </tr>\n",
       "    <tr>\n",
       "      <th>14</th>\n",
       "      <td>Olga</td>\n",
       "      <td>Jimenez</td>\n",
       "      <td>Nigeria</td>\n",
       "    </tr>\n",
       "    <tr>\n",
       "      <th>15</th>\n",
       "      <td>Bertha</td>\n",
       "      <td>Ferguson</td>\n",
       "      <td>Nigeria</td>\n",
       "    </tr>\n",
       "    <tr>\n",
       "      <th>16</th>\n",
       "      <td>Tracey</td>\n",
       "      <td>Barrett</td>\n",
       "      <td>Nigeria</td>\n",
       "    </tr>\n",
       "    <tr>\n",
       "      <th>17</th>\n",
       "      <td>Jo</td>\n",
       "      <td>Fowler</td>\n",
       "      <td>Nigeria</td>\n",
       "    </tr>\n",
       "    <tr>\n",
       "      <th>18</th>\n",
       "      <td>Johnnie</td>\n",
       "      <td>Chisholm</td>\n",
       "      <td>Poland</td>\n",
       "    </tr>\n",
       "    <tr>\n",
       "      <th>19</th>\n",
       "      <td>Wallace</td>\n",
       "      <td>Slone</td>\n",
       "      <td>Nigeria</td>\n",
       "    </tr>\n",
       "    <tr>\n",
       "      <th>20</th>\n",
       "      <td>Michelle</td>\n",
       "      <td>Clark</td>\n",
       "      <td>Bangladesh</td>\n",
       "    </tr>\n",
       "    <tr>\n",
       "      <th>21</th>\n",
       "      <td>Russell</td>\n",
       "      <td>Brinson</td>\n",
       "      <td>Poland</td>\n",
       "    </tr>\n",
       "    <tr>\n",
       "      <th>22</th>\n",
       "      <td>Jimmie</td>\n",
       "      <td>Eggleston</td>\n",
       "      <td>Poland</td>\n",
       "    </tr>\n",
       "    <tr>\n",
       "      <th>23</th>\n",
       "      <td>Constance</td>\n",
       "      <td>Reid</td>\n",
       "      <td>Nigeria</td>\n",
       "    </tr>\n",
       "  </tbody>\n",
       "</table>\n",
       "</div>"
      ],
      "text/plain": [
       "   first_name  last_name     country\n",
       "0       Sonia    Gregory     Nigeria\n",
       "1       Brian      Wyman      Poland\n",
       "2      Sidney   Burleson      Poland\n",
       "3      Rodney    Moeller     Nigeria\n",
       "4     Stephen     Qualls  Bangladesh\n",
       "5       Velma      Lucas     Nigeria\n",
       "6     Marilyn       Ross     Nigeria\n",
       "7       Elsie     Kelley     Nigeria\n",
       "8      Gladys   Hamilton     Nigeria\n",
       "9       Frank   Waggoner  Bangladesh\n",
       "10   Marjorie     Tucker      Poland\n",
       "11      Carol     Garcia     Nigeria\n",
       "12       Leah     Curtis      Poland\n",
       "13      Ruben      Geary      Poland\n",
       "14       Olga    Jimenez     Nigeria\n",
       "15     Bertha   Ferguson     Nigeria\n",
       "16     Tracey    Barrett     Nigeria\n",
       "17         Jo     Fowler     Nigeria\n",
       "18    Johnnie   Chisholm      Poland\n",
       "19    Wallace      Slone     Nigeria\n",
       "20   Michelle      Clark  Bangladesh\n",
       "21    Russell    Brinson      Poland\n",
       "22     Jimmie  Eggleston      Poland\n",
       "23  Constance       Reid     Nigeria"
      ]
     },
     "execution_count": 8,
     "metadata": {},
     "output_type": "execute_result"
    }
   ],
   "source": [
    "# inner join - wyszukuje części wspólne po zadanych kolumnach \n",
    "\n",
    "txt = \"\"\"\n",
    "    SELECT first_name, last_name, ctr.country\n",
    "    FROM customer c\n",
    "    INNER JOIN address a ON a.address_id = c.address_id\n",
    "    INNER JOIN city ct  ON ct.city_id = a.city_id\n",
    "    INNER JOIN country ctr ON ctr.country_id = ct.country_id\n",
    "    WHERE ctr.country IN ('Poland','Nigeria', 'Bangladesh')\n",
    "    \n",
    "\"\"\"\n",
    "df = pd.read_sql(txt, con=connection)\n",
    "df"
   ]
  },
  {
   "cell_type": "markdown",
   "id": "77f49164",
   "metadata": {},
   "source": [
    "#### 8.Gdzie mieszkają członkowie personelu"
   ]
  },
  {
   "cell_type": "code",
   "execution_count": 9,
   "id": "7054c8c7",
   "metadata": {},
   "outputs": [
    {
     "name": "stderr",
     "output_type": "stream",
     "text": [
      "C:\\Users\\DELL\\anaconda3\\lib\\site-packages\\pandas\\io\\sql.py:761: UserWarning: pandas only support SQLAlchemy connectable(engine/connection) ordatabase string URI or sqlite3 DBAPI2 connectionother DBAPI2 objects are not tested, please consider using SQLAlchemy\n",
      "  warnings.warn(\n"
     ]
    },
    {
     "data": {
      "text/html": [
       "<div>\n",
       "<style scoped>\n",
       "    .dataframe tbody tr th:only-of-type {\n",
       "        vertical-align: middle;\n",
       "    }\n",
       "\n",
       "    .dataframe tbody tr th {\n",
       "        vertical-align: top;\n",
       "    }\n",
       "\n",
       "    .dataframe thead th {\n",
       "        text-align: right;\n",
       "    }\n",
       "</style>\n",
       "<table border=\"1\" class=\"dataframe\">\n",
       "  <thead>\n",
       "    <tr style=\"text-align: right;\">\n",
       "      <th></th>\n",
       "      <th>staff_id</th>\n",
       "      <th>address</th>\n",
       "    </tr>\n",
       "  </thead>\n",
       "  <tbody>\n",
       "    <tr>\n",
       "      <th>0</th>\n",
       "      <td>1</td>\n",
       "      <td>23 Workhaven Lane</td>\n",
       "    </tr>\n",
       "    <tr>\n",
       "      <th>1</th>\n",
       "      <td>2</td>\n",
       "      <td>1411 Lillydale Drive</td>\n",
       "    </tr>\n",
       "  </tbody>\n",
       "</table>\n",
       "</div>"
      ],
      "text/plain": [
       "   staff_id               address\n",
       "0         1     23 Workhaven Lane\n",
       "1         2  1411 Lillydale Drive"
      ]
     },
     "execution_count": 9,
     "metadata": {},
     "output_type": "execute_result"
    }
   ],
   "source": [
    "txt = \"\"\"\n",
    "    SELECT  a.staff_id, adr.address\n",
    "    FROM address adr\n",
    "    INNER JOIN staff a ON a.address_id = adr.address_id\n",
    "    \n",
    "\"\"\"\n",
    "df = pd.read_sql(txt, con=connection)\n",
    "df"
   ]
  },
  {
   "cell_type": "markdown",
   "id": "2bbce6ac",
   "metadata": {},
   "source": [
    "#### 9.Ilu pracowników mieszka w Argentynie lub Hiszpanii?"
   ]
  },
  {
   "cell_type": "code",
   "execution_count": 10,
   "id": "68d70ff1",
   "metadata": {},
   "outputs": [
    {
     "name": "stderr",
     "output_type": "stream",
     "text": [
      "C:\\Users\\DELL\\anaconda3\\lib\\site-packages\\pandas\\io\\sql.py:761: UserWarning: pandas only support SQLAlchemy connectable(engine/connection) ordatabase string URI or sqlite3 DBAPI2 connectionother DBAPI2 objects are not tested, please consider using SQLAlchemy\n",
      "  warnings.warn(\n"
     ]
    },
    {
     "data": {
      "text/html": [
       "<div>\n",
       "<style scoped>\n",
       "    .dataframe tbody tr th:only-of-type {\n",
       "        vertical-align: middle;\n",
       "    }\n",
       "\n",
       "    .dataframe tbody tr th {\n",
       "        vertical-align: top;\n",
       "    }\n",
       "\n",
       "    .dataframe thead th {\n",
       "        text-align: right;\n",
       "    }\n",
       "</style>\n",
       "<table border=\"1\" class=\"dataframe\">\n",
       "  <thead>\n",
       "    <tr style=\"text-align: right;\">\n",
       "      <th></th>\n",
       "      <th>count</th>\n",
       "    </tr>\n",
       "  </thead>\n",
       "  <tbody>\n",
       "    <tr>\n",
       "      <th>0</th>\n",
       "      <td>0</td>\n",
       "    </tr>\n",
       "  </tbody>\n",
       "</table>\n",
       "</div>"
      ],
      "text/plain": [
       "   count\n",
       "0      0"
      ]
     },
     "execution_count": 10,
     "metadata": {},
     "output_type": "execute_result"
    }
   ],
   "source": [
    "txt = \"\"\"\n",
    "    SELECT count(staff_id)\n",
    "    FROM staff st\n",
    "    INNER JOIN address a ON a.address_id = st.address_id\n",
    "    INNER JOIN city ct  ON ct.city_id = a.city_id\n",
    "    INNER JOIN country ctr ON ctr.country_id = ct.country_id\n",
    "    WHERE ctr.country IN ('Spain','Argentina')\n",
    "    \n",
    "\"\"\"\n",
    "df = pd.read_sql(txt, con=connection)\n",
    "df"
   ]
  },
  {
   "cell_type": "markdown",
   "id": "19184756",
   "metadata": {},
   "source": [
    "#### 10.Jakie kategorie filmów zostały wypożyczone przez klientów?"
   ]
  },
  {
   "cell_type": "code",
   "execution_count": 11,
   "id": "87ee6cb2",
   "metadata": {},
   "outputs": [
    {
     "name": "stderr",
     "output_type": "stream",
     "text": [
      "C:\\Users\\DELL\\anaconda3\\lib\\site-packages\\pandas\\io\\sql.py:761: UserWarning: pandas only support SQLAlchemy connectable(engine/connection) ordatabase string URI or sqlite3 DBAPI2 connectionother DBAPI2 objects are not tested, please consider using SQLAlchemy\n",
      "  warnings.warn(\n"
     ]
    },
    {
     "data": {
      "text/html": [
       "<div>\n",
       "<style scoped>\n",
       "    .dataframe tbody tr th:only-of-type {\n",
       "        vertical-align: middle;\n",
       "    }\n",
       "\n",
       "    .dataframe tbody tr th {\n",
       "        vertical-align: top;\n",
       "    }\n",
       "\n",
       "    .dataframe thead th {\n",
       "        text-align: right;\n",
       "    }\n",
       "</style>\n",
       "<table border=\"1\" class=\"dataframe\">\n",
       "  <thead>\n",
       "    <tr style=\"text-align: right;\">\n",
       "      <th></th>\n",
       "      <th>name</th>\n",
       "    </tr>\n",
       "  </thead>\n",
       "  <tbody>\n",
       "    <tr>\n",
       "      <th>0</th>\n",
       "      <td>Sports</td>\n",
       "    </tr>\n",
       "    <tr>\n",
       "      <th>1</th>\n",
       "      <td>Classics</td>\n",
       "    </tr>\n",
       "    <tr>\n",
       "      <th>2</th>\n",
       "      <td>New</td>\n",
       "    </tr>\n",
       "    <tr>\n",
       "      <th>3</th>\n",
       "      <td>Family</td>\n",
       "    </tr>\n",
       "    <tr>\n",
       "      <th>4</th>\n",
       "      <td>Comedy</td>\n",
       "    </tr>\n",
       "    <tr>\n",
       "      <th>5</th>\n",
       "      <td>Animation</td>\n",
       "    </tr>\n",
       "    <tr>\n",
       "      <th>6</th>\n",
       "      <td>Travel</td>\n",
       "    </tr>\n",
       "    <tr>\n",
       "      <th>7</th>\n",
       "      <td>Music</td>\n",
       "    </tr>\n",
       "    <tr>\n",
       "      <th>8</th>\n",
       "      <td>Drama</td>\n",
       "    </tr>\n",
       "    <tr>\n",
       "      <th>9</th>\n",
       "      <td>Horror</td>\n",
       "    </tr>\n",
       "    <tr>\n",
       "      <th>10</th>\n",
       "      <td>Sci-Fi</td>\n",
       "    </tr>\n",
       "    <tr>\n",
       "      <th>11</th>\n",
       "      <td>Games</td>\n",
       "    </tr>\n",
       "    <tr>\n",
       "      <th>12</th>\n",
       "      <td>Documentary</td>\n",
       "    </tr>\n",
       "    <tr>\n",
       "      <th>13</th>\n",
       "      <td>Foreign</td>\n",
       "    </tr>\n",
       "    <tr>\n",
       "      <th>14</th>\n",
       "      <td>Action</td>\n",
       "    </tr>\n",
       "    <tr>\n",
       "      <th>15</th>\n",
       "      <td>Children</td>\n",
       "    </tr>\n",
       "  </tbody>\n",
       "</table>\n",
       "</div>"
      ],
      "text/plain": [
       "           name\n",
       "0        Sports\n",
       "1      Classics\n",
       "2           New\n",
       "3        Family\n",
       "4        Comedy\n",
       "5     Animation\n",
       "6        Travel\n",
       "7         Music\n",
       "8         Drama\n",
       "9        Horror\n",
       "10       Sci-Fi\n",
       "11        Games\n",
       "12  Documentary\n",
       "13      Foreign\n",
       "14       Action\n",
       "15     Children"
      ]
     },
     "execution_count": 11,
     "metadata": {},
     "output_type": "execute_result"
    }
   ],
   "source": [
    "txt = \"\"\"\n",
    "    SELECT distinct name\n",
    "    FROM category c\n",
    "    INNER JOIN film_category f_c ON c.category_id = f_c.category_id\n",
    "    INNER JOIN film f  ON f.film_id = f_c.film_id\n",
    "    INNER JOIN inventory inv ON inv.film_id = f.film_id\n",
    "    INNER JOIN rental ren ON inv.inventory_id = ren.inventory_id\n",
    "    \n",
    "\"\"\"\n",
    "df = pd.read_sql(txt, con=connection)\n",
    "df"
   ]
  },
  {
   "cell_type": "markdown",
   "id": "fcea11f0",
   "metadata": {},
   "source": [
    "#### 11.Znajdź wszystkie kategorie filmów wypożyczonych w Ameryce."
   ]
  },
  {
   "cell_type": "code",
   "execution_count": 12,
   "id": "60b2ba50",
   "metadata": {},
   "outputs": [
    {
     "name": "stderr",
     "output_type": "stream",
     "text": [
      "C:\\Users\\DELL\\anaconda3\\lib\\site-packages\\pandas\\io\\sql.py:761: UserWarning: pandas only support SQLAlchemy connectable(engine/connection) ordatabase string URI or sqlite3 DBAPI2 connectionother DBAPI2 objects are not tested, please consider using SQLAlchemy\n",
      "  warnings.warn(\n"
     ]
    },
    {
     "data": {
      "text/html": [
       "<div>\n",
       "<style scoped>\n",
       "    .dataframe tbody tr th:only-of-type {\n",
       "        vertical-align: middle;\n",
       "    }\n",
       "\n",
       "    .dataframe tbody tr th {\n",
       "        vertical-align: top;\n",
       "    }\n",
       "\n",
       "    .dataframe thead th {\n",
       "        text-align: right;\n",
       "    }\n",
       "</style>\n",
       "<table border=\"1\" class=\"dataframe\">\n",
       "  <thead>\n",
       "    <tr style=\"text-align: right;\">\n",
       "      <th></th>\n",
       "      <th>name</th>\n",
       "    </tr>\n",
       "  </thead>\n",
       "  <tbody>\n",
       "    <tr>\n",
       "      <th>0</th>\n",
       "      <td>Action</td>\n",
       "    </tr>\n",
       "    <tr>\n",
       "      <th>1</th>\n",
       "      <td>Animation</td>\n",
       "    </tr>\n",
       "    <tr>\n",
       "      <th>2</th>\n",
       "      <td>Children</td>\n",
       "    </tr>\n",
       "    <tr>\n",
       "      <th>3</th>\n",
       "      <td>Classics</td>\n",
       "    </tr>\n",
       "    <tr>\n",
       "      <th>4</th>\n",
       "      <td>Comedy</td>\n",
       "    </tr>\n",
       "    <tr>\n",
       "      <th>5</th>\n",
       "      <td>Documentary</td>\n",
       "    </tr>\n",
       "    <tr>\n",
       "      <th>6</th>\n",
       "      <td>Drama</td>\n",
       "    </tr>\n",
       "    <tr>\n",
       "      <th>7</th>\n",
       "      <td>Family</td>\n",
       "    </tr>\n",
       "    <tr>\n",
       "      <th>8</th>\n",
       "      <td>Foreign</td>\n",
       "    </tr>\n",
       "    <tr>\n",
       "      <th>9</th>\n",
       "      <td>Games</td>\n",
       "    </tr>\n",
       "    <tr>\n",
       "      <th>10</th>\n",
       "      <td>Horror</td>\n",
       "    </tr>\n",
       "    <tr>\n",
       "      <th>11</th>\n",
       "      <td>Music</td>\n",
       "    </tr>\n",
       "    <tr>\n",
       "      <th>12</th>\n",
       "      <td>New</td>\n",
       "    </tr>\n",
       "    <tr>\n",
       "      <th>13</th>\n",
       "      <td>Sci-Fi</td>\n",
       "    </tr>\n",
       "    <tr>\n",
       "      <th>14</th>\n",
       "      <td>Sports</td>\n",
       "    </tr>\n",
       "    <tr>\n",
       "      <th>15</th>\n",
       "      <td>Travel</td>\n",
       "    </tr>\n",
       "  </tbody>\n",
       "</table>\n",
       "</div>"
      ],
      "text/plain": [
       "           name\n",
       "0        Action\n",
       "1     Animation\n",
       "2      Children\n",
       "3      Classics\n",
       "4        Comedy\n",
       "5   Documentary\n",
       "6         Drama\n",
       "7        Family\n",
       "8       Foreign\n",
       "9         Games\n",
       "10       Horror\n",
       "11        Music\n",
       "12          New\n",
       "13       Sci-Fi\n",
       "14       Sports\n",
       "15       Travel"
      ]
     },
     "execution_count": 12,
     "metadata": {},
     "output_type": "execute_result"
    }
   ],
   "source": [
    "txt = \"\"\"\n",
    "    SELECT distinct name\n",
    "    FROM category c\n",
    "    INNER JOIN film_category f_c ON c.category_id = f_c.category_id\n",
    "    INNER JOIN film f  ON f.film_id = f_c.film_id\n",
    "    INNER JOIN inventory inv ON inv.film_id = f.film_id\n",
    "    INNER JOIN rental ren ON inv.inventory_id = ren.inventory_id\n",
    "    INNER JOIN customer cus ON cus.customer_id = ren.customer_id\n",
    "    INNER JOIN address adr ON adr.address_id = cus.address_id\n",
    "    INNER JOIN store st ON st.address_id = adr.address_id\n",
    "    WHERE con.country IN ('United States')\n",
    "    \n",
    "\"\"\"\n",
    "df = pd.read_sql(txt, con=connection)\n",
    "df"
   ]
  },
  {
   "cell_type": "markdown",
   "id": "7da24f8a",
   "metadata": {},
   "source": [
    "#### 12. Znajdź wszystkie tytuły filmów, w których grał: Olympia Pfeiffer lub Julia Zellweger lub Ellen Presley"
   ]
  },
  {
   "cell_type": "code",
   "execution_count": 13,
   "id": "370d7a3f",
   "metadata": {},
   "outputs": [
    {
     "name": "stderr",
     "output_type": "stream",
     "text": [
      "C:\\Users\\DELL\\anaconda3\\lib\\site-packages\\pandas\\io\\sql.py:761: UserWarning: pandas only support SQLAlchemy connectable(engine/connection) ordatabase string URI or sqlite3 DBAPI2 connectionother DBAPI2 objects are not tested, please consider using SQLAlchemy\n",
      "  warnings.warn(\n"
     ]
    },
    {
     "data": {
      "text/html": [
       "<div>\n",
       "<style scoped>\n",
       "    .dataframe tbody tr th:only-of-type {\n",
       "        vertical-align: middle;\n",
       "    }\n",
       "\n",
       "    .dataframe tbody tr th {\n",
       "        vertical-align: top;\n",
       "    }\n",
       "\n",
       "    .dataframe thead th {\n",
       "        text-align: right;\n",
       "    }\n",
       "</style>\n",
       "<table border=\"1\" class=\"dataframe\">\n",
       "  <thead>\n",
       "    <tr style=\"text-align: right;\">\n",
       "      <th></th>\n",
       "      <th>title</th>\n",
       "      <th>first_name</th>\n",
       "      <th>last_name</th>\n",
       "    </tr>\n",
       "  </thead>\n",
       "  <tbody>\n",
       "    <tr>\n",
       "      <th>0</th>\n",
       "      <td>Badman Dawn</td>\n",
       "      <td>Olympia</td>\n",
       "      <td>Pfeiffer</td>\n",
       "    </tr>\n",
       "    <tr>\n",
       "      <th>1</th>\n",
       "      <td>Bilko Anonymous</td>\n",
       "      <td>Ellen</td>\n",
       "      <td>Presley</td>\n",
       "    </tr>\n",
       "    <tr>\n",
       "      <th>2</th>\n",
       "      <td>Breakfast Goldfinger</td>\n",
       "      <td>Julia</td>\n",
       "      <td>Zellweger</td>\n",
       "    </tr>\n",
       "    <tr>\n",
       "      <th>3</th>\n",
       "      <td>Caribbean Liberty</td>\n",
       "      <td>Ellen</td>\n",
       "      <td>Presley</td>\n",
       "    </tr>\n",
       "    <tr>\n",
       "      <th>4</th>\n",
       "      <td>Casper Dragonfly</td>\n",
       "      <td>Ellen</td>\n",
       "      <td>Presley</td>\n",
       "    </tr>\n",
       "    <tr>\n",
       "      <th>...</th>\n",
       "      <td>...</td>\n",
       "      <td>...</td>\n",
       "      <td>...</td>\n",
       "    </tr>\n",
       "    <tr>\n",
       "      <th>64</th>\n",
       "      <td>Turn Star</td>\n",
       "      <td>Ellen</td>\n",
       "      <td>Presley</td>\n",
       "    </tr>\n",
       "    <tr>\n",
       "      <th>65</th>\n",
       "      <td>Wait Cider</td>\n",
       "      <td>Olympia</td>\n",
       "      <td>Pfeiffer</td>\n",
       "    </tr>\n",
       "    <tr>\n",
       "      <th>66</th>\n",
       "      <td>Women Dorado</td>\n",
       "      <td>Ellen</td>\n",
       "      <td>Presley</td>\n",
       "    </tr>\n",
       "    <tr>\n",
       "      <th>67</th>\n",
       "      <td>Won Dares</td>\n",
       "      <td>Julia</td>\n",
       "      <td>Zellweger</td>\n",
       "    </tr>\n",
       "    <tr>\n",
       "      <th>68</th>\n",
       "      <td>Wyoming Storm</td>\n",
       "      <td>Julia</td>\n",
       "      <td>Zellweger</td>\n",
       "    </tr>\n",
       "  </tbody>\n",
       "</table>\n",
       "<p>69 rows × 3 columns</p>\n",
       "</div>"
      ],
      "text/plain": [
       "                   title first_name  last_name\n",
       "0            Badman Dawn    Olympia   Pfeiffer\n",
       "1        Bilko Anonymous      Ellen    Presley\n",
       "2   Breakfast Goldfinger      Julia  Zellweger\n",
       "3      Caribbean Liberty      Ellen    Presley\n",
       "4       Casper Dragonfly      Ellen    Presley\n",
       "..                   ...        ...        ...\n",
       "64             Turn Star      Ellen    Presley\n",
       "65            Wait Cider    Olympia   Pfeiffer\n",
       "66          Women Dorado      Ellen    Presley\n",
       "67             Won Dares      Julia  Zellweger\n",
       "68         Wyoming Storm      Julia  Zellweger\n",
       "\n",
       "[69 rows x 3 columns]"
      ]
     },
     "execution_count": 13,
     "metadata": {},
     "output_type": "execute_result"
    }
   ],
   "source": [
    "txt = \"\"\"\n",
    "    SELECT distinct title, a.first_name, a.last_name\n",
    "    FROM film f\n",
    "    INNER JOIN film_actor f_a ON f.film_id = f_a.film_id\n",
    "    INNER JOIN actor a  ON a.actor_id = f_a.actor_id\n",
    "    WHERE a.first_name IN ('Olympia') AND a.last_name IN ('Pfeiffer')\n",
    "           OR a.first_name IN ('Julia') AND a.last_name IN ('Zellweger')\n",
    "           OR a.first_name IN ('Ellen') and a.last_name IN ('Presley')\n",
    "        \n",
    "    \n",
    "\"\"\"\n",
    "df = pd.read_sql(txt, con=connection)\n",
    "df\n"
   ]
  },
  {
   "cell_type": "code",
   "execution_count": null,
   "id": "9aace22c",
   "metadata": {},
   "outputs": [],
   "source": []
  }
 ],
 "metadata": {
  "kernelspec": {
   "display_name": "Python 3 (ipykernel)",
   "language": "python",
   "name": "python3"
  },
  "language_info": {
   "codemirror_mode": {
    "name": "ipython",
    "version": 3
   },
   "file_extension": ".py",
   "mimetype": "text/x-python",
   "name": "python",
   "nbconvert_exporter": "python",
   "pygments_lexer": "ipython3",
   "version": "3.9.12"
  }
 },
 "nbformat": 4,
 "nbformat_minor": 5
}
